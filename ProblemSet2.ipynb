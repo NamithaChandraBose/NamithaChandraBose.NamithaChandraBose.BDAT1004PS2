{
 "cells": [
  {
   "cell_type": "markdown",
   "id": "3803bb08",
   "metadata": {},
   "source": [
    "   Question 1\n",
    "   \n",
    "   Explanation :The value of 'a' is 6. a is defined as global variable. But to modify any gloabl variable inside a function, we need to declare is as global with the keyword 'global'. So in the first call, value of a is 0 and returs a+2 from function c().Here the value is now changed to 2.In the next calls value of 'a' becomes 4 and 6 respectively. If global keyword is not used inside the function, we will get error. "
   ]
  },
  {
   "cell_type": "code",
   "execution_count": 4,
   "id": "73b66b80",
   "metadata": {},
   "outputs": [
    {
     "data": {
      "text/plain": [
       "6"
      ]
     },
     "execution_count": 4,
     "metadata": {},
     "output_type": "execute_result"
    }
   ],
   "source": [
    "a = 0\n",
    "def b():\n",
    " global a\n",
    " a = c(a)\n",
    "def c(a):\n",
    " return a + 2\n",
    "\n",
    "b()\n",
    "b()\n",
    "b()\n",
    "a"
   ]
  },
  {
   "cell_type": "markdown",
   "id": "1864c9e4",
   "metadata": {},
   "source": [
    "Question 2"
   ]
  },
  {
   "cell_type": "code",
   "execution_count": 5,
   "id": "55c1f2b8",
   "metadata": {},
   "outputs": [
    {
     "name": "stdout",
     "output_type": "stream",
     "text": [
      "38\n",
      "file idterm.py not found!\n"
     ]
    }
   ],
   "source": [
    "def file_length(file_name):\n",
    "    try:\n",
    "        file = open(file_name)\n",
    "        contents = file.read()\n",
    "        file.close()\n",
    "        print(len(contents))\n",
    "    except:\n",
    "        print(\"file \"+file_name+\" not found!\")\n",
    "file_length(\"midterm.py\")\n",
    "file_length(\"idterm.py\")"
   ]
  },
  {
   "cell_type": "markdown",
   "id": "3a01406c",
   "metadata": {},
   "source": [
    "Question 3"
   ]
  },
  {
   "cell_type": "code",
   "execution_count": 33,
   "id": "61dd254d",
   "metadata": {},
   "outputs": [
    {
     "data": {
      "text/plain": [
       "['doll', 'firetruck', 'kitten']"
      ]
     },
     "execution_count": 33,
     "metadata": {},
     "output_type": "execute_result"
    }
   ],
   "source": [
    "class Marsupial:\n",
    "    def __init__(self):\n",
    "        self.a=[]\n",
    "    def put_in_pouch(self,put):\n",
    "        self.a.append(put)\n",
    "    def pouch_contents(self):\n",
    "        return self.a\n",
    "\n",
    "        \n",
    "m = Marsupial()\n",
    "m.put_in_pouch('doll')\n",
    "m.put_in_pouch('firetruck')\n",
    "m.put_in_pouch('kitten')\n",
    "m.pouch_contents()\n",
    "\n"
   ]
  },
  {
   "cell_type": "code",
   "execution_count": 34,
   "id": "443765e2",
   "metadata": {},
   "outputs": [
    {
     "name": "stdout",
     "output_type": "stream",
     "text": [
      "I am a Kangaroo located at coordinates (0,0)\n",
      "I am a Kangaroo located at coordinates (3,0)\n"
     ]
    }
   ],
   "source": [
    "class Marsupial:\n",
    "    def __init__(self):\n",
    "        self.a=[]\n",
    "    def put_in_pouch(self,put):\n",
    "        self.a.append(put)\n",
    "    def pouch_contents(self):\n",
    "        return self.a\n",
    "\n",
    "class Kangaroo(Marsupial):\n",
    "    def __init__(self,x,y):\n",
    "        Marsupial.__init__(self)\n",
    "        self.x=x\n",
    "        self.y=y\n",
    "    def Jump(self,dx,dy):\n",
    "        self.x+=dx\n",
    "        self.y+=self.y+dy\n",
    "    def __str__(self):\n",
    "        return(\"I am a Kangaroo located at coordinates ({},{})\".format(self.x,self.y))\n",
    "        \n",
    "m = Marsupial()\n",
    "m.put_in_pouch('doll')\n",
    "m.put_in_pouch('firetruck')\n",
    "m.put_in_pouch('kitten')\n",
    "m.pouch_contents()\n",
    "\n",
    "k = Kangaroo(0,0)\n",
    "print(k) \n",
    "k.put_in_pouch('doll') \n",
    "k.put_in_pouch('firetruck')\n",
    "k.put_in_pouch('kitten')\n",
    "k.pouch_contents()\n",
    "k.Jump(1,0)\n",
    "k.Jump(1,0)\n",
    "k.Jump(1,0)\n",
    "print(k)"
   ]
  },
  {
   "cell_type": "markdown",
   "id": "16645e2b",
   "metadata": {},
   "source": [
    "Question 4"
   ]
  },
  {
   "cell_type": "code",
   "execution_count": 5,
   "id": "9ac49f89",
   "metadata": {},
   "outputs": [
    {
     "name": "stdout",
     "output_type": "stream",
     "text": [
      "10\n",
      "5\n",
      "16\n",
      "8\n",
      "4\n",
      "2\n",
      "1\n"
     ]
    }
   ],
   "source": [
    "def collatz (n):\n",
    "    if(n != 1):\n",
    "        print(n ,end ='\\n')\n",
    "    if(n == 1):\n",
    "        print(n ,end ='\\n')\n",
    "        return n\n",
    "    if(n%2 == 0):\n",
    "        n = n // 2\n",
    "        collatz(n)\n",
    "    else:\n",
    "        n= 3*n + 1\n",
    "        collatz(n)\n",
    "\n",
    "\n",
    "collatz(10)"
   ]
  },
  {
   "cell_type": "markdown",
   "id": "98a0ee09",
   "metadata": {},
   "source": [
    "Question 5"
   ]
  },
  {
   "cell_type": "code",
   "execution_count": 6,
   "id": "f27c65c9",
   "metadata": {},
   "outputs": [
    {
     "name": "stdout",
     "output_type": "stream",
     "text": [
      "0\n",
      "1\n",
      "11\n",
      "1001\n"
     ]
    }
   ],
   "source": [
    "binary_value =\"\"\n",
    "def binary (n):\n",
    "    global binary_value\n",
    "    if(n!=1):\n",
    "        if(n==0):\n",
    "            print(\"0\")\n",
    "        else:\n",
    "            temp=\"\"\n",
    "            remainder = int(n%2)\n",
    "            #print(remainder)\n",
    "            temp =str(remainder)\n",
    "            binary_value+=temp\n",
    "            #print(temp)\n",
    "            n =int(n/2)\n",
    "            binary(n)\n",
    "    else:\n",
    "        binary_value +=\"1\"\n",
    "        binary_value = binary_value [::-1] \n",
    "        print(binary_value)\n",
    "        binary_value=\"\"\n",
    "        \n",
    "binary(0)\n",
    "binary(1)\n",
    "binary(3)\n",
    "binary(9)"
   ]
  },
  {
   "cell_type": "markdown",
   "id": "8b32af11",
   "metadata": {},
   "source": [
    "Question 6"
   ]
  },
  {
   "cell_type": "code",
   "execution_count": 56,
   "id": "846fe1e4",
   "metadata": {},
   "outputs": [
    {
     "name": "stdout",
     "output_type": "stream",
     "text": [
      "W3C Mission\n",
      "\tPrinciples\n"
     ]
    }
   ],
   "source": [
    "from urllib.parse import urljoin\n",
    "from html.parser import HTMLParser\n",
    "from urllib.request import urlopen\n",
    "\n",
    "var='False'\n",
    "var2='False'\n",
    "class HeadingParser(HTMLParser):  \n",
    "    def handle_starttag(self, tag, attrs):\n",
    "        if tag == 'h1':\n",
    "            global var\n",
    "            var = \"True\"\n",
    "        if tag == 'h2':\n",
    "            global var2\n",
    "            var2 = \"True\"\n",
    "        \n",
    "    def handle_endtag(self, tag):\n",
    "        if var == \"False\":\n",
    "            pass\n",
    "        if var2 == \"False\":\n",
    "            pass\n",
    "    def handle_data(self, data):\n",
    "        global var,var2\n",
    "        if var == \"True\":\n",
    "           \n",
    "            print(data)\n",
    "            var='False'    \n",
    "        \n",
    "        if var2 == \"True\":\n",
    "            \n",
    "            print('\\t',end='')\n",
    "            print(data)\n",
    "            var2 = 'False'\n",
    "\n",
    "infile = open('w3c.html') \n",
    "content = infile.read() \n",
    "infile.close() \n",
    "linkparser = HeadingParser() \n",
    "linkparser.feed(content) "
   ]
  },
  {
   "cell_type": "markdown",
   "id": "9c7474b6",
   "metadata": {},
   "source": [
    "Question 7)"
   ]
  },
  {
   "cell_type": "code",
   "execution_count": 63,
   "id": "3e599704",
   "metadata": {},
   "outputs": [
    {
     "name": "stdout",
     "output_type": "stream",
     "text": [
      " http://reed.cs.depaul.edu/lperkovic/test1.html\n",
      " http://reed.cs.depaul.edu/lperkovic/test2.html\n",
      "  http://reed.cs.depaul.edu/lperkovic/test2.html\n"
     ]
    }
   ],
   "source": [
    "from urllib.request import urlopen\n",
    "from urllib.parse import urljoin\n",
    "from html.parser import HTMLParser\n",
    "\n",
    "class Collector(HTMLParser):\n",
    "\n",
    "  def __init__(self, givenURL):\n",
    "      #initializes parser, the url, and a list\n",
    "      HTMLParser.__init__(self)\n",
    "      self.givenURL = givenURL\n",
    "      self.availableLinks = []\n",
    "\n",
    "\n",
    "  def handle_starttag(self, tag, attrs):\n",
    "      if tag == 'a':\n",
    "          for attr in attrs:          \n",
    "              if attr[0] == 'href': \n",
    "                  absolute = urljoin(self.givenURL, attr[1])\n",
    "                  if absolute[:4] == 'http':\n",
    "                      self.availableLinks.append(absolute)\n",
    "\n",
    "  def getLinks(self):\n",
    "    return self.availableLinks\n",
    "\n",
    "\n",
    "allLinks = []\n",
    "\n",
    "def webdir(givenURL,depth,indent):\n",
    "        global allLinks   \n",
    "        print(indent*\" \" + givenURL)\n",
    "        if depth == 0:\n",
    "            return \n",
    "        for i in allLinks: \n",
    "            webdir(i, depth-1, indent+1)    \n",
    "\n",
    "\n",
    "url = ' http://reed.cs.depaul.edu/lperkovic/test1.html'\n",
    "resource = urlopen(url)\n",
    "content = resource.read().decode()\n",
    "collector = Collector(url)\n",
    "collector.feed(content)\n",
    "allLinks = collector.getLinks()\n",
    "\n",
    "#Calling Webdir Function here\n",
    "webdir(url,2,0) \n"
   ]
  },
  {
   "cell_type": "markdown",
   "id": "161fec2a",
   "metadata": {},
   "source": [
    "Question 8\n"
   ]
  },
  {
   "cell_type": "code",
   "execution_count": 33,
   "id": "d5f3835c",
   "metadata": {},
   "outputs": [
    {
     "name": "stdout",
     "output_type": "stream",
     "text": [
      "Requirement already satisfied: ipython-sql in c:\\users\\namitha chandra bose\\anaconda3\\lib\\site-packages (0.4.1)\n",
      "Requirement already satisfied: ipython>=1.0 in c:\\users\\namitha chandra bose\\anaconda3\\lib\\site-packages (from ipython-sql) (8.2.0)\n",
      "Requirement already satisfied: sqlparse in c:\\users\\namitha chandra bose\\anaconda3\\lib\\site-packages (from ipython-sql) (0.4.2)\n",
      "Requirement already satisfied: ipython-genutils>=0.1.0 in c:\\users\\namitha chandra bose\\anaconda3\\lib\\site-packages (from ipython-sql) (0.2.0)\n",
      "Requirement already satisfied: six in c:\\users\\namitha chandra bose\\anaconda3\\lib\\site-packages (from ipython-sql) (1.16.0)\n",
      "Requirement already satisfied: prettytable<1 in c:\\users\\namitha chandra bose\\anaconda3\\lib\\site-packages (from ipython-sql) (0.7.2)\n",
      "Requirement already satisfied: sqlalchemy>=0.6.7 in c:\\users\\namitha chandra bose\\anaconda3\\lib\\site-packages (from ipython-sql) (1.4.32)\n",
      "Requirement already satisfied: prompt-toolkit!=3.0.0,!=3.0.1,<3.1.0,>=2.0.0 in c:\\users\\namitha chandra bose\\anaconda3\\lib\\site-packages (from ipython>=1.0->ipython-sql) (3.0.20)\n",
      "Requirement already satisfied: setuptools>=18.5 in c:\\users\\namitha chandra bose\\anaconda3\\lib\\site-packages (from ipython>=1.0->ipython-sql) (61.2.0)\n",
      "Requirement already satisfied: colorama in c:\\users\\namitha chandra bose\\anaconda3\\lib\\site-packages (from ipython>=1.0->ipython-sql) (0.4.4)\n",
      "Requirement already satisfied: jedi>=0.16 in c:\\users\\namitha chandra bose\\anaconda3\\lib\\site-packages (from ipython>=1.0->ipython-sql) (0.18.1)\n",
      "Requirement already satisfied: pickleshare in c:\\users\\namitha chandra bose\\anaconda3\\lib\\site-packages (from ipython>=1.0->ipython-sql) (0.7.5)\n",
      "Requirement already satisfied: decorator in c:\\users\\namitha chandra bose\\anaconda3\\lib\\site-packages (from ipython>=1.0->ipython-sql) (5.1.1)\n",
      "Requirement already satisfied: pygments>=2.4.0 in c:\\users\\namitha chandra bose\\anaconda3\\lib\\site-packages (from ipython>=1.0->ipython-sql) (2.11.2)\n",
      "Requirement already satisfied: traitlets>=5 in c:\\users\\namitha chandra bose\\anaconda3\\lib\\site-packages (from ipython>=1.0->ipython-sql) (5.1.1)\n",
      "Requirement already satisfied: stack-data in c:\\users\\namitha chandra bose\\anaconda3\\lib\\site-packages (from ipython>=1.0->ipython-sql) (0.2.0)\n",
      "Requirement already satisfied: backcall in c:\\users\\namitha chandra bose\\anaconda3\\lib\\site-packages (from ipython>=1.0->ipython-sql) (0.2.0)\n",
      "Requirement already satisfied: matplotlib-inline in c:\\users\\namitha chandra bose\\anaconda3\\lib\\site-packages (from ipython>=1.0->ipython-sql) (0.1.2)\n",
      "Requirement already satisfied: parso<0.9.0,>=0.8.0 in c:\\users\\namitha chandra bose\\anaconda3\\lib\\site-packages (from jedi>=0.16->ipython>=1.0->ipython-sql) (0.8.3)\n",
      "Requirement already satisfied: wcwidth in c:\\users\\namitha chandra bose\\anaconda3\\lib\\site-packages (from prompt-toolkit!=3.0.0,!=3.0.1,<3.1.0,>=2.0.0->ipython>=1.0->ipython-sql) (0.2.5)\n",
      "Requirement already satisfied: greenlet!=0.4.17 in c:\\users\\namitha chandra bose\\anaconda3\\lib\\site-packages (from sqlalchemy>=0.6.7->ipython-sql) (1.1.1)\n",
      "Requirement already satisfied: asttokens in c:\\users\\namitha chandra bose\\anaconda3\\lib\\site-packages (from stack-data->ipython>=1.0->ipython-sql) (2.0.5)\n",
      "Requirement already satisfied: executing in c:\\users\\namitha chandra bose\\anaconda3\\lib\\site-packages (from stack-data->ipython>=1.0->ipython-sql) (0.8.3)\n",
      "Requirement already satisfied: pure-eval in c:\\users\\namitha chandra bose\\anaconda3\\lib\\site-packages (from stack-data->ipython>=1.0->ipython-sql) (0.2.2)\n",
      "('Mumbai', 'India', 'Winter', 24.8, 5.9)\n",
      "('Mumbai', 'India', 'Spring', 28.4, 16.2)\n",
      "('Mumbai', 'India', 'Summer', 27.9, 1549.4)\n",
      "('Mumbai', 'India', 'Fall', 27.6, 346.0)\n",
      "('London', 'United Kingdom', 'Winter', 4.2, 207.7)\n",
      "('London', 'United Kingdom', 'Spring', 8.3, 169.6)\n",
      "('London', 'United Kingdom', 'Summer', 15.7, 157.0)\n",
      "('London', 'United Kingdom', 'Fall', 10.4, 218.5)\n",
      "('Cairo', 'Egypt', 'Winter', 13.6, 16.5)\n",
      "('Cairo', 'Egypt', 'Spring', 20.7, 6.5)\n",
      "('Cairo', 'Egypt', 'Summer', 27.7, 0.1)\n",
      "('Cairo', 'Egypt', 'Fall', 22.2, 4.5)\n"
     ]
    }
   ],
   "source": [
    "!pip install ipython-sql\n",
    "import sqlite3\n",
    "sqliteConnection = sqlite3.connect('sql.db')\n",
    "cur = sqliteConnection.cursor()\n",
    "cur.execute(\"CREATE TABLE SEASON2 (City text, Country text, Season text, Temperature float, Rainfall float)\")\n",
    "lst=[('Mumbai', 'India','Winter',24.8, 5.9),('Mumbai','India','Spring',28.4,16.2),('Mumbai','India','Summer',27.9,1549.4),\n",
    "     ('Mumbai','India','Fall',27.6,346.0),('London','United Kingdom','Winter',4.2,207.7),\n",
    "     ('London','United Kingdom','Spring',8.3,169.6),('London','United Kingdom','Summer',15.7,157.0),\n",
    "     ('London','United Kingdom','Fall',10.4,218.5),('Cairo','Egypt','Winter',13.6,16.5),('Cairo','Egypt','Spring',20.7,6.5),\n",
    "     ('Cairo','Egypt','Summer',27.7,0.1),('Cairo','Egypt','Fall',22.2,4.5)]\n",
    "for i in lst:\n",
    "    cur.execute(\"INSERT INTO SEASON2 VALUES (?,?,?,?,?)\",i)\n",
    "    sqliteConnection.commit()\n",
    "sqliteConnection.close()\n",
    "sqliteConnection = sqlite3.connect('sql.db')\n",
    "cur = sqliteConnection.cursor()\n",
    "cur.execute('SELECT * FROM SEASON2')\n",
    "for i in cur :\n",
    "    print(i)"
   ]
  },
  {
   "cell_type": "markdown",
   "id": "845a8599",
   "metadata": {},
   "source": [
    "Question 8a)"
   ]
  },
  {
   "cell_type": "code",
   "execution_count": 34,
   "id": "5175ee7d",
   "metadata": {},
   "outputs": [
    {
     "data": {
      "text/plain": [
       "[(24.8,),\n",
       " (28.4,),\n",
       " (27.9,),\n",
       " (27.6,),\n",
       " (4.2,),\n",
       " (8.3,),\n",
       " (15.7,),\n",
       " (10.4,),\n",
       " (13.6,),\n",
       " (20.7,),\n",
       " (27.7,),\n",
       " (22.2,)]"
      ]
     },
     "execution_count": 34,
     "metadata": {},
     "output_type": "execute_result"
    }
   ],
   "source": [
    "cur.execute('SELECT Temperature FROM SEASON2')\n",
    "cur.fetchall()"
   ]
  },
  {
   "cell_type": "markdown",
   "id": "b203dabb",
   "metadata": {},
   "source": [
    "Question 8b)"
   ]
  },
  {
   "cell_type": "code",
   "execution_count": 35,
   "id": "f48ecc05",
   "metadata": {},
   "outputs": [
    {
     "data": {
      "text/plain": [
       "[('Mumbai',), ('London',), ('Cairo',)]"
      ]
     },
     "execution_count": 35,
     "metadata": {},
     "output_type": "execute_result"
    }
   ],
   "source": [
    "cur.execute('SELECT DISTINCT City from SEASON2');\n",
    "cur.fetchall()"
   ]
  },
  {
   "cell_type": "markdown",
   "id": "fbc07a7d",
   "metadata": {},
   "source": [
    "Question 8c)"
   ]
  },
  {
   "cell_type": "code",
   "execution_count": 53,
   "id": "c178d149",
   "metadata": {},
   "outputs": [
    {
     "data": {
      "text/plain": [
       "[('Mumbai', 'India', 'Winter', 24.8, 5.9),\n",
       " ('Mumbai', 'India', 'Spring', 28.4, 16.2),\n",
       " ('Mumbai', 'India', 'Summer', 27.9, 1549.4),\n",
       " ('Mumbai', 'India', 'Fall', 27.6, 346.0)]"
      ]
     },
     "execution_count": 53,
     "metadata": {},
     "output_type": "execute_result"
    }
   ],
   "source": [
    "cur.execute('SELECT * FROM SEASON2 WHERE Country =\"India\" ')\n",
    "cur.fetchall()"
   ]
  },
  {
   "cell_type": "markdown",
   "id": "83cd151b",
   "metadata": {},
   "source": [
    "Question 8d)"
   ]
  },
  {
   "cell_type": "code",
   "execution_count": 38,
   "id": "7dcfb732",
   "metadata": {},
   "outputs": [
    {
     "data": {
      "text/plain": [
       "[('Mumbai', 'India', 'Fall', 27.6, 346.0),\n",
       " ('London', 'United Kingdom', 'Fall', 10.4, 218.5),\n",
       " ('Cairo', 'Egypt', 'Fall', 22.2, 4.5)]"
      ]
     },
     "execution_count": 38,
     "metadata": {},
     "output_type": "execute_result"
    }
   ],
   "source": [
    "cur.execute('SELECT * FROM SEASON2 WHERE Season =\"Fall\" ')\n",
    "cur.fetchall()"
   ]
  },
  {
   "cell_type": "markdown",
   "id": "4bb3e579",
   "metadata": {},
   "source": [
    "Question 8e)"
   ]
  },
  {
   "cell_type": "code",
   "execution_count": 39,
   "id": "c3975045",
   "metadata": {},
   "outputs": [
    {
     "data": {
      "text/plain": [
       "[('Mumbai', 'India', 'Fall', 27.6, 346.0),\n",
       " ('London', 'United Kingdom', 'Winter', 4.2, 207.7),\n",
       " ('London', 'United Kingdom', 'Fall', 10.4, 218.5)]"
      ]
     },
     "execution_count": 39,
     "metadata": {},
     "output_type": "execute_result"
    }
   ],
   "source": [
    "cur.execute('SELECT * FROM SEASON2 WHERE Rainfall BETWEEN 200 AND 400')\n",
    "cur.fetchall()"
   ]
  },
  {
   "cell_type": "markdown",
   "id": "2969e62e",
   "metadata": {},
   "source": [
    "Question 8f)"
   ]
  },
  {
   "cell_type": "code",
   "execution_count": 40,
   "id": "b7ef2cf1",
   "metadata": {},
   "outputs": [
    {
     "data": {
      "text/plain": [
       "[('Cairo', 'Egypt'), ('Mumbai', 'India')]"
      ]
     },
     "execution_count": 40,
     "metadata": {},
     "output_type": "execute_result"
    }
   ],
   "source": [
    "cur.execute('SELECT City,Country FROM SEASON2 WHERE Season=\"Fall\" AND Temperature>20 ORDER BY Temperature ASC  ')\n",
    "cur.fetchall()"
   ]
  },
  {
   "cell_type": "markdown",
   "id": "d3465551",
   "metadata": {},
   "source": [
    "Question 8g)"
   ]
  },
  {
   "cell_type": "code",
   "execution_count": 54,
   "id": "c7c13bcf",
   "metadata": {},
   "outputs": [
    {
     "data": {
      "text/plain": [
       "[(27.6,)]"
      ]
     },
     "execution_count": 54,
     "metadata": {},
     "output_type": "execute_result"
    }
   ],
   "source": [
    "cur.execute('SELECT SUM(Rainfall) FROM SEASON2 WHERE City=\"Cairo\" ')\n",
    "cur.fetchall()"
   ]
  },
  {
   "cell_type": "markdown",
   "id": "a64253de",
   "metadata": {},
   "source": [
    "Question 8h)"
   ]
  },
  {
   "cell_type": "code",
   "execution_count": 48,
   "id": "c00f5380",
   "metadata": {},
   "outputs": [
    {
     "data": {
      "text/plain": [
       "[(569.0,), (192.29999999999998,), (1706.5,), (230.1,)]"
      ]
     },
     "execution_count": 48,
     "metadata": {},
     "output_type": "execute_result"
    }
   ],
   "source": [
    "cur.execute('SELECT SUM(Rainfall) FROM SEASON2 GROUP BY Season ')\n",
    "cur.fetchall()"
   ]
  },
  {
   "cell_type": "markdown",
   "id": "2c377c1c",
   "metadata": {},
   "source": [
    "Question 9)"
   ]
  },
  {
   "cell_type": "code",
   "execution_count": 55,
   "id": "2275fbdf",
   "metadata": {},
   "outputs": [
    {
     "name": "stdout",
     "output_type": "stream",
     "text": [
      "Given List=  ['The', 'quick', 'brown', 'fox', 'jumps', 'over', 'the', 'lazy', 'dog']\n",
      "\n",
      "a)  ['THE', 'QUICK', 'BROWN', 'FOX', 'JUMPS', 'OVER', 'THE', 'LAZY', 'DOG']\n",
      "\n",
      "b)  ['the', 'quick', 'brown', 'fox', 'jumps', 'over', 'the', 'lazy', 'dog']\n",
      "\n",
      "c)  [3, 5, 5, 3, 5, 4, 3, 4, 3]\n",
      "\n",
      "d)  [['THE', 'the', 3], ['QUICK', 'quick', 5], ['BROWN', 'brown', 5], ['FOX', 'fox', 3], ['JUMPS', 'jumps', 5], ['OVER', 'over', 4], ['THE', 'the', 3], ['LAZY', 'lazy', 4], ['DOG', 'dog', 3]]\n",
      "\n",
      "e)  ['The', 'quick', 'brown', 'fox', 'jumps', 'over', 'the', 'lazy', 'dog']\n"
     ]
    }
   ],
   "source": [
    "list1 =['The','quick','brown','fox','jumps','over','the','lazy','dog']\n",
    "print(\"Given List= \",end=\" \")\n",
    "print(list1)\n",
    "print()\n",
    "list2 = [name.upper() for name in list1]\n",
    "print(\"a) \",end=\" \")\n",
    "print(list2)\n",
    "print()\n",
    "list3 = [name.lower() for name in list1]\n",
    "print(\"b) \",end=\" \")\n",
    "print(list3)\n",
    "print()\n",
    "\n",
    "list4=[]\n",
    "for i in list1:\n",
    "    list4.append(len(i))\n",
    "\n",
    "print(\"c) \",end=\" \")\n",
    "print(list4)\n",
    "print()\n",
    "\n",
    "listall=[]\n",
    "\n",
    "for i in list1:\n",
    "    length=len(i)\n",
    "    cap=i.upper()\n",
    "    small = i.lower()\n",
    "    listx=[]\n",
    "    listx.append(cap)\n",
    "    listx.append(small)\n",
    "    listx.append(length)\n",
    "    listall.append(listx)\n",
    "\n",
    "print(\"d) \",end=\" \")\n",
    "print(listall)\n",
    "print()\n",
    "\n",
    "list5=[]\n",
    "for i in list1:\n",
    "    if len(i)>=3:\n",
    "        list5.append(i)\n",
    "print(\"e) \",end=\" \")\n",
    "print(list5)"
   ]
  },
  {
   "cell_type": "code",
   "execution_count": null,
   "id": "2758ba2a",
   "metadata": {},
   "outputs": [],
   "source": []
  }
 ],
 "metadata": {
  "kernelspec": {
   "display_name": "Python 3 (ipykernel)",
   "language": "python",
   "name": "python3"
  },
  "language_info": {
   "codemirror_mode": {
    "name": "ipython",
    "version": 3
   },
   "file_extension": ".py",
   "mimetype": "text/x-python",
   "name": "python",
   "nbconvert_exporter": "python",
   "pygments_lexer": "ipython3",
   "version": "3.9.12"
  }
 },
 "nbformat": 4,
 "nbformat_minor": 5
}
